{
 "cells": [
  {
   "cell_type": "code",
   "execution_count": 358,
   "metadata": {},
   "outputs": [],
   "source": [
    "from modules.linearcode import * \n",
    "from modules.aux_functions import *\n",
    "import numpy as np\n",
    "\n",
    "G = np.array([[0,1,1,1,1,0,0,0],\n",
    "              [1,1,1,0,0,1,0,0],\n",
    "              [1,1,0,1,0,0,1,0],\n",
    "              [1,0,1,1,0,0,0,1]]) # Matriz geradora\n",
    "\n",
    "code = LinearCode(G)"
   ]
  },
  {
   "cell_type": "markdown",
   "metadata": {},
   "source": [
    "## Passo 1: Gerar uma sequência aleatórias de bits '0' e '1'"
   ]
  },
  {
   "cell_type": "code",
   "execution_count": 359,
   "metadata": {},
   "outputs": [
    {
     "data": {
      "text/plain": [
       "array([[1., 1., 1., 1., 1., 0., 1., 0., 0., 0., 0., 1., 0., 1., 1., 1.,\n",
       "        0., 0., 0., 1., 0., 0., 1., 1., 0., 0., 1., 1., 0., 0., 0., 1.,\n",
       "        1., 0., 1., 0., 1., 0., 1., 1., 1., 1., 0., 0., 0., 1., 1., 0.,\n",
       "        0., 0., 0., 1., 0., 1., 0., 0., 1., 1., 1., 1., 0., 1., 0., 0.,\n",
       "        1., 1., 0., 0., 1., 1., 0., 0., 1., 1., 1., 1., 1., 0., 0., 0.,\n",
       "        1., 0., 0., 1., 0., 1., 0., 1., 1., 0., 1., 1., 1., 0., 0., 0.,\n",
       "        0., 0., 1., 0.]])"
      ]
     },
     "execution_count": 359,
     "metadata": {},
     "output_type": "execute_result"
    }
   ],
   "source": [
    "# Gera uma sequência de bits a ser transmitida\n",
    "n_symbols_sequence = 100 # 100 bits serão gerados \n",
    "\n",
    "tx_signal = np.round(np.random.rand(1,n_symbols_sequence))\n",
    "tx_signal"
   ]
  },
  {
   "cell_type": "markdown",
   "metadata": {},
   "source": [
    "## Passo 2: Agrupar os símbolos em blocos   "
   ]
  },
  {
   "cell_type": "code",
   "execution_count": 360,
   "metadata": {},
   "outputs": [
    {
     "data": {
      "text/plain": [
       "array([[1., 1., 1., 1.],\n",
       "       [1., 0., 1., 0.],\n",
       "       [0., 0., 0., 1.],\n",
       "       [0., 1., 1., 1.],\n",
       "       [0., 0., 0., 1.],\n",
       "       [0., 0., 1., 1.],\n",
       "       [0., 0., 1., 1.],\n",
       "       [0., 0., 0., 1.],\n",
       "       [1., 0., 1., 0.],\n",
       "       [1., 0., 1., 1.],\n",
       "       [1., 1., 0., 0.],\n",
       "       [0., 1., 1., 0.],\n",
       "       [0., 0., 0., 1.],\n",
       "       [0., 1., 0., 0.],\n",
       "       [1., 1., 1., 1.],\n",
       "       [0., 1., 0., 0.],\n",
       "       [1., 1., 0., 0.],\n",
       "       [1., 1., 0., 0.],\n",
       "       [1., 1., 1., 1.],\n",
       "       [1., 0., 0., 0.],\n",
       "       [1., 0., 0., 1.],\n",
       "       [0., 1., 0., 1.],\n",
       "       [1., 0., 1., 1.],\n",
       "       [1., 0., 0., 0.],\n",
       "       [0., 0., 1., 0.]])"
      ]
     },
     "execution_count": 360,
     "metadata": {},
     "output_type": "execute_result"
    }
   ],
   "source": [
    "## Separa os bits em blocos\n",
    "n_symbols_block = 4\n",
    "\n",
    "tx_signal_block = np.reshape(tx_signal, (int(n_symbols_sequence/n_symbols_block),n_symbols_block))\n",
    "tx_signal_block"
   ]
  },
  {
   "cell_type": "code",
   "execution_count": 361,
   "metadata": {},
   "outputs": [
    {
     "data": {
      "text/plain": [
       "array([[1., 1., 1., 1., 1., 1., 1., 1.],\n",
       "       [1., 0., 1., 0., 1., 0., 1., 0.],\n",
       "       [1., 0., 1., 1., 0., 0., 0., 1.],\n",
       "       [1., 0., 0., 0., 0., 1., 1., 1.],\n",
       "       [1., 0., 1., 1., 0., 0., 0., 1.],\n",
       "       [0., 1., 1., 0., 0., 0., 1., 1.],\n",
       "       [0., 1., 1., 0., 0., 0., 1., 1.],\n",
       "       [1., 0., 1., 1., 0., 0., 0., 1.],\n",
       "       [1., 0., 1., 0., 1., 0., 1., 0.],\n",
       "       [0., 0., 0., 1., 1., 0., 1., 1.],\n",
       "       [1., 0., 0., 1., 1., 1., 0., 0.],\n",
       "       [0., 0., 1., 1., 0., 1., 1., 0.],\n",
       "       [1., 0., 1., 1., 0., 0., 0., 1.],\n",
       "       [1., 1., 1., 0., 0., 1., 0., 0.],\n",
       "       [1., 1., 1., 1., 1., 1., 1., 1.],\n",
       "       [1., 1., 1., 0., 0., 1., 0., 0.],\n",
       "       [1., 0., 0., 1., 1., 1., 0., 0.],\n",
       "       [1., 0., 0., 1., 1., 1., 0., 0.],\n",
       "       [1., 1., 1., 1., 1., 1., 1., 1.],\n",
       "       [0., 1., 1., 1., 1., 0., 0., 0.],\n",
       "       [1., 1., 0., 0., 1., 0., 0., 1.],\n",
       "       [0., 1., 0., 1., 0., 1., 0., 1.],\n",
       "       [0., 0., 0., 1., 1., 0., 1., 1.],\n",
       "       [0., 1., 1., 1., 1., 0., 0., 0.],\n",
       "       [1., 1., 0., 1., 0., 0., 1., 0.]])"
      ]
     },
     "execution_count": 361,
     "metadata": {},
     "output_type": "execute_result"
    }
   ],
   "source": [
    "## Aplica os bits de paridade a cada bloco de acordo com a matriz G\n",
    "tx_signal_wordblock = dot_mod(tx_signal_block, code.G)\n",
    "tx_signal_wordblock"
   ]
  },
  {
   "cell_type": "code",
   "execution_count": 362,
   "metadata": {},
   "outputs": [
    {
     "data": {
      "text/plain": [
       "array([1., 1., 1., 1., 1., 1., 1., 1., 1., 0., 1., 0., 1., 0., 1., 0., 1.,\n",
       "       0., 1., 1., 0., 0., 0., 1., 1., 0., 0., 0., 0., 1., 1., 1., 1., 0.,\n",
       "       1., 1., 0., 0., 0., 1., 0., 1., 1., 0., 0., 0., 1., 1., 0., 1., 1.,\n",
       "       0., 0., 0., 1., 1., 1., 0., 1., 1., 0., 0., 0., 1., 1., 0., 1., 0.,\n",
       "       1., 0., 1., 0., 0., 0., 0., 1., 1., 0., 1., 1., 1., 0., 0., 1., 1.,\n",
       "       1., 0., 0., 0., 0., 1., 1., 0., 1., 1., 0., 1., 0., 1., 1., 0., 0.,\n",
       "       0., 1., 1., 1., 1., 0., 0., 1., 0., 0., 1., 1., 1., 1., 1., 1., 1.,\n",
       "       1., 1., 1., 1., 0., 0., 1., 0., 0., 1., 0., 0., 1., 1., 1., 0., 0.,\n",
       "       1., 0., 0., 1., 1., 1., 0., 0., 1., 1., 1., 1., 1., 1., 1., 1., 0.,\n",
       "       1., 1., 1., 1., 0., 0., 0., 1., 1., 0., 0., 1., 0., 0., 1., 0., 1.,\n",
       "       0., 1., 0., 1., 0., 1., 0., 0., 0., 1., 1., 0., 1., 1., 0., 1., 1.,\n",
       "       1., 1., 0., 0., 0., 1., 1., 0., 1., 0., 0., 1., 0.])"
      ]
     },
     "execution_count": 362,
     "metadata": {},
     "output_type": "execute_result"
    }
   ],
   "source": [
    "## Coloca os símbolos que serão enviados lado a lado em um lista\n",
    "tx_signal_with_paritybits = np.reshape(tx_signal_wordblock,(1,int((n_symbols_sequence/n_symbols_block) * code.G.shape[1])))[0]\n",
    "tx_signal_with_paritybits"
   ]
  },
  {
   "cell_type": "markdown",
   "metadata": {},
   "source": [
    "## Passo 3: Aplica a modulação que será usada no canal"
   ]
  },
  {
   "cell_type": "code",
   "execution_count": 363,
   "metadata": {},
   "outputs": [
    {
     "data": {
      "text/plain": [
       "array([ 1.,  1.,  1.,  1.,  1.,  1.,  1.,  1.,  1., -1.,  1., -1.,  1.,\n",
       "       -1.,  1., -1.,  1., -1.,  1.,  1., -1., -1., -1.,  1.,  1., -1.,\n",
       "       -1., -1., -1.,  1.,  1.,  1.,  1., -1.,  1.,  1., -1., -1., -1.,\n",
       "        1., -1.,  1.,  1., -1., -1., -1.,  1.,  1., -1.,  1.,  1., -1.,\n",
       "       -1., -1.,  1.,  1.,  1., -1.,  1.,  1., -1., -1., -1.,  1.,  1.,\n",
       "       -1.,  1., -1.,  1., -1.,  1., -1., -1., -1., -1.,  1.,  1., -1.,\n",
       "        1.,  1.,  1., -1., -1.,  1.,  1.,  1., -1., -1., -1., -1.,  1.,\n",
       "        1., -1.,  1.,  1., -1.,  1., -1.,  1.,  1., -1., -1., -1.,  1.,\n",
       "        1.,  1.,  1., -1., -1.,  1., -1., -1.,  1.,  1.,  1.,  1.,  1.,\n",
       "        1.,  1.,  1.,  1.,  1.,  1., -1., -1.,  1., -1., -1.,  1., -1.,\n",
       "       -1.,  1.,  1.,  1., -1., -1.,  1., -1., -1.,  1.,  1.,  1., -1.,\n",
       "       -1.,  1.,  1.,  1.,  1.,  1.,  1.,  1.,  1., -1.,  1.,  1.,  1.,\n",
       "        1., -1., -1., -1.,  1.,  1., -1., -1.,  1., -1., -1.,  1., -1.,\n",
       "        1., -1.,  1., -1.,  1., -1.,  1., -1., -1., -1.,  1.,  1., -1.,\n",
       "        1.,  1., -1.,  1.,  1.,  1.,  1., -1., -1., -1.,  1.,  1., -1.,\n",
       "        1., -1., -1.,  1., -1.])"
      ]
     },
     "execution_count": 363,
     "metadata": {},
     "output_type": "execute_result"
    }
   ],
   "source": [
    "## Aplica a modulação BPSK. Transformando os bits 0 em -1 e 1 em 1\n",
    "tx_signal_with_paritybits_BPSK = (2*tx_signal_with_paritybits - 1)\n",
    "tx_signal_with_paritybits_BPSK"
   ]
  },
  {
   "cell_type": "markdown",
   "metadata": {},
   "source": [
    "## Passo 4: Cria o canal AWGN"
   ]
  },
  {
   "cell_type": "code",
   "execution_count": 364,
   "metadata": {},
   "outputs": [],
   "source": [
    "## Cria o canal ruidoso  \n",
    "mu = 0 # Média 0\n",
    "sigma = 1 # Variância 1\n",
    "\n",
    "# Número aleátorio baseado em uma distribuição gaussiana\n",
    "real_part_random = np.random.normal(mu, sigma, (1,len(tx_signal_with_paritybits)))\n",
    "\n",
    "# Número aleátorio baseado em uma distribuição gaussiana multiplicado por j para criar um número imaginário\n",
    "imaginary_part_random = 1j*np.random.normal(mu, sigma, (1,len(tx_signal_with_paritybits)))\n",
    "\n",
    "# Canal com componente real e imaginária\n",
    "channel = (1/np.sqrt(2))*(real_part_random + imaginary_part_random)"
   ]
  },
  {
   "cell_type": "markdown",
   "metadata": {},
   "source": [
    "## Passo 5: Adicionar o ruído aos bits transmitidos "
   ]
  },
  {
   "cell_type": "code",
   "execution_count": 365,
   "metadata": {},
   "outputs": [
    {
     "data": {
      "text/plain": [
       "array([ 0,  1,  2,  3,  4,  5,  6,  7,  8,  9, 10])"
      ]
     },
     "execution_count": 365,
     "metadata": {},
     "output_type": "execute_result"
    }
   ],
   "source": [
    "EcN0dBs = np.arange(11) \n",
    "EcN0dBs"
   ]
  },
  {
   "cell_type": "code",
   "execution_count": 348,
   "metadata": {},
   "outputs": [],
   "source": [
    "## Adição de ruído\n",
    "\n",
    "inter_EcN0dBs = 0 \n",
    "\n",
    "# Símbolos recebidos\n",
    "rx_signal = tx_signal_with_paritybits_BPSK + (10**(-EcN0dBs[inter_EcN0dBs]/20)) * channel"
   ]
  },
  {
   "cell_type": "markdown",
   "metadata": {},
   "source": [
    "## Passo 6: Decodificação por softdecision"
   ]
  },
  {
   "cell_type": "code",
   "execution_count": 366,
   "metadata": {},
   "outputs": [],
   "source": [
    "### Separar em blocos com o comprimento da palavra-código\n",
    "\n",
    "rx_signal_wordblock = np.reshape(np.real(rx_signal),(int(n_symbols_sequence/n_symbols_block),code.G.shape[1]))"
   ]
  },
  {
   "cell_type": "code",
   "execution_count": 371,
   "metadata": {},
   "outputs": [],
   "source": [
    "### Gera todas as palavras código para a matriz G\n",
    "codewords_vector = np.array(code.codewords)"
   ]
  },
  {
   "cell_type": "code",
   "execution_count": 351,
   "metadata": {},
   "outputs": [],
   "source": [
    "### Cria a matriz A a partir das palavras código\n",
    "A = 2 * codewords_vector.T - 1"
   ]
  },
  {
   "cell_type": "code",
   "execution_count": 352,
   "metadata": {},
   "outputs": [],
   "source": [
    "## Cria a matriz B a multiplicando o sinal recebido pela matriz B (A multiplicação é no campo dos reais)\n",
    "B = rx_signal_wordblock @ A"
   ]
  },
  {
   "cell_type": "code",
   "execution_count": 353,
   "metadata": {},
   "outputs": [],
   "source": [
    "### Cria uma lista para armazenar os valores da coluna em cada que linha que apresenta o maior valor e também o seu valor\n",
    "max_col_index_and_value = list()\n",
    "\n",
    "# Percorre as linhas e seleciona o valor mais alto e sua posição na linha\n",
    "for B_row in B:\n",
    "    max_col_index_and_value.append(max(enumerate(B_row), key=lambda index: index[1]))"
   ]
  },
  {
   "cell_type": "code",
   "execution_count": 354,
   "metadata": {},
   "outputs": [
    {
     "data": {
      "text/plain": [
       "array([1, 1, 0, 1, 1, 0, 0, 1, 0, 0, 0, 0, 1, 1, 1, 1, 1, 1, 1, 1, 0, 1,\n",
       "       1, 0, 1, 0, 1, 0, 0, 1, 1, 1, 1, 1, 0, 1, 1, 1, 0, 1, 0, 1, 0, 0,\n",
       "       1, 0, 0, 0, 0, 0, 1, 0, 1, 0, 1, 0, 0, 1, 1, 1, 1, 0, 0, 1, 0, 0,\n",
       "       1, 1, 1, 1, 0, 1, 1, 0, 0, 1, 0, 1, 1, 0, 0, 1, 1, 0, 0, 1, 0, 1,\n",
       "       0, 1, 0, 0, 0, 0, 0, 1, 0, 1, 0, 0])"
      ]
     },
     "execution_count": 354,
     "metadata": {},
     "output_type": "execute_result"
    }
   ],
   "source": [
    "## Decodificando as informações\n",
    "\n",
    "# Isola as iformações referente ao índices da tupla 'max_col_index_and_value'\n",
    "col_index = np.array(max_col_index_and_value, dtype=int).T[0]\n",
    "\n",
    "# Função para converter um número decimal em binário. Obs: O valor do binário está espalhado para seguir a forma que o código foi criado anteriormente\n",
    "dec2bit = lambda dec: [int(bit) for bit in '{:0{}b}'.format(dec, code.G.shape[0])][::-1]\n",
    "\n",
    "# Concatena os bits para gerar o sinal de saída\n",
    "rx_signal_softdecode = np.concatenate(([dec2bit(index) for index in col_index]))\n",
    "rx_signal_softdecode"
   ]
  },
  {
   "cell_type": "code",
   "execution_count": 355,
   "metadata": {},
   "outputs": [
    {
     "data": {
      "text/plain": [
       "array([[1, 1, 0, 1, 1, 0, 0, 1, 0, 0, 0, 0, 1, 1, 1, 1, 1, 1, 1, 1, 0, 1,\n",
       "        1, 0, 1, 0, 1, 0, 1, 1, 1, 1, 1, 1, 0, 1, 1, 1, 0, 1, 0, 1, 0, 0,\n",
       "        0, 1, 0, 0, 0, 0, 1, 0, 1, 0, 1, 0, 0, 1, 1, 1, 1, 0, 0, 1, 0, 0,\n",
       "        1, 1, 1, 1, 0, 1, 1, 0, 0, 1, 0, 1, 1, 0, 0, 1, 1, 0, 0, 1, 0, 1,\n",
       "        0, 1, 0, 0, 0, 0, 0, 1, 0, 1, 0, 0]])"
      ]
     },
     "execution_count": 355,
     "metadata": {},
     "output_type": "execute_result"
    }
   ],
   "source": [
    "# Sinal transmitido original\n",
    "np.array(tx_signal, dtype=int)"
   ]
  },
  {
   "cell_type": "code",
   "execution_count": 356,
   "metadata": {},
   "outputs": [
    {
     "data": {
      "text/plain": [
       "3"
      ]
     },
     "execution_count": 356,
     "metadata": {},
     "output_type": "execute_result"
    }
   ],
   "source": [
    "## Verifica a ocorrencia de erro no sinal\n",
    "num_error = sum(((tx_signal - rx_signal_softdecode) != 0)[0])\n",
    "num_error"
   ]
  },
  {
   "cell_type": "code",
   "execution_count": 357,
   "metadata": {},
   "outputs": [
    {
     "data": {
      "text/plain": [
       "0.03"
      ]
     },
     "execution_count": 357,
     "metadata": {},
     "output_type": "execute_result"
    }
   ],
   "source": [
    "## Taxa de erro da decodificação por soft é \n",
    "rate_soft_error = num_error / n_symbols_sequence\n",
    "rate_soft_error"
   ]
  },
  {
   "cell_type": "markdown",
   "metadata": {},
   "source": [
    "# HARD"
   ]
  },
  {
   "cell_type": "code",
   "execution_count": 10,
   "metadata": {},
   "outputs": [
    {
     "data": {
      "text/plain": [
       "array([[1, 0, 0, 1, 0, 1, 0, 0, 1, 0, 1, 0, 1, 0, 1, 0, 0, 1, 1, 1, 1, 1,\n",
       "        0, 0, 1, 0, 1, 1, 1, 1, 1, 0, 1, 0, 1, 1, 0, 0, 0, 1, 0, 0, 0, 1,\n",
       "        0, 1, 0, 1, 1, 1, 1, 0, 0, 1, 0, 0, 0, 1, 0, 1, 0, 0, 0, 1, 1, 0,\n",
       "        0, 0, 0, 1, 1, 1, 1, 0, 1, 1, 0, 0, 0, 1, 0, 1, 1, 1, 1, 0, 1, 0,\n",
       "        0, 0, 0, 0, 0, 0, 1, 0, 1, 0, 1, 1, 0, 0, 0, 1, 1, 1, 1, 1, 1, 1,\n",
       "        1, 1, 1, 0, 1, 1, 0, 0, 0, 1, 1, 0, 0, 0, 0, 1, 1, 1, 0, 0, 1, 1,\n",
       "        1, 0, 1, 1, 0, 1, 1, 0, 0, 0, 1, 1, 0, 1, 0, 0, 1, 1, 1, 0, 0, 1,\n",
       "        0, 1, 0, 1, 0, 1, 1, 1, 0, 0, 1, 0, 0, 1, 0, 1, 0, 0, 1, 1, 1, 0,\n",
       "        1, 1, 1, 1, 1, 1, 1, 1, 0, 0, 1, 1, 0, 1, 1, 1, 0, 1, 0, 0, 1, 1,\n",
       "        1, 0]])"
      ]
     },
     "execution_count": 10,
     "metadata": {},
     "output_type": "execute_result"
    }
   ],
   "source": [
    "## Normaliza os valores acima de 0 para ser igual a 1\n",
    "rx_signal_hardconversion = np.real(rx_signal) > 0\n",
    "rx_signal_hardconversion = rx_signal_hardconversion.astype(int)\n",
    "rx_signal_hardconversion"
   ]
  },
  {
   "cell_type": "markdown",
   "metadata": {},
   "source": [
    "## Passo 6: Decodificação por hard decision"
   ]
  },
  {
   "cell_type": "code",
   "execution_count": 11,
   "metadata": {},
   "outputs": [
    {
     "data": {
      "text/plain": [
       "array([[1, 0, 0, 1, 0, 1, 0, 0],\n",
       "       [1, 0, 1, 0, 1, 0, 1, 0],\n",
       "       [0, 1, 1, 1, 1, 1, 0, 0],\n",
       "       [1, 0, 1, 1, 1, 1, 1, 0],\n",
       "       [1, 0, 1, 1, 0, 0, 0, 1],\n",
       "       [0, 0, 0, 1, 0, 1, 0, 1],\n",
       "       [1, 1, 1, 0, 0, 1, 0, 0],\n",
       "       [0, 1, 0, 1, 0, 0, 0, 1],\n",
       "       [1, 0, 0, 0, 0, 1, 1, 1],\n",
       "       [1, 0, 1, 1, 0, 0, 0, 1],\n",
       "       [0, 1, 1, 1, 1, 0, 1, 0],\n",
       "       [0, 0, 0, 0, 0, 0, 1, 0],\n",
       "       [1, 0, 1, 1, 0, 0, 0, 1],\n",
       "       [1, 1, 1, 1, 1, 1, 1, 1],\n",
       "       [1, 0, 1, 1, 0, 0, 0, 1],\n",
       "       [1, 0, 0, 0, 0, 1, 1, 1],\n",
       "       [0, 0, 1, 1, 1, 0, 1, 1],\n",
       "       [0, 1, 1, 0, 0, 0, 1, 1],\n",
       "       [0, 1, 0, 0, 1, 1, 1, 0],\n",
       "       [0, 1, 0, 1, 0, 1, 0, 1],\n",
       "       [1, 1, 0, 0, 1, 0, 0, 1],\n",
       "       [0, 1, 0, 0, 1, 1, 1, 0],\n",
       "       [1, 1, 1, 1, 1, 1, 1, 1],\n",
       "       [0, 0, 1, 1, 0, 1, 1, 1],\n",
       "       [0, 1, 0, 0, 1, 1, 1, 0]])"
      ]
     },
     "execution_count": 11,
     "metadata": {},
     "output_type": "execute_result"
    }
   ],
   "source": [
    "## Separa os bits recebidos em blocos de comprimento com o mesmo tamanho da palavra transmitida no canal\n",
    "rx_signal_hard_wordblock = np.reshape(rx_signal_hardconversion, (int(n_symbols_sequence/n_symbols_block),G.shape[1]))\n",
    "rx_signal_hard_wordblock"
   ]
  },
  {
   "cell_type": "code",
   "execution_count": 12,
   "metadata": {},
   "outputs": [
    {
     "data": {
      "text/plain": [
       "array([[0, 1, 1, 1],\n",
       "       [0, 0, 0, 0],\n",
       "       [1, 1, 1, 0],\n",
       "       [1, 1, 1, 1],\n",
       "       [0, 0, 0, 0],\n",
       "       [0, 1, 0, 0],\n",
       "       [0, 0, 0, 0],\n",
       "       [1, 1, 1, 0],\n",
       "       [0, 0, 0, 0],\n",
       "       [0, 0, 0, 0],\n",
       "       [1, 1, 0, 1],\n",
       "       [1, 1, 0, 1],\n",
       "       [0, 0, 0, 0],\n",
       "       [0, 0, 0, 0],\n",
       "       [0, 0, 0, 0],\n",
       "       [0, 0, 0, 0],\n",
       "       [0, 0, 1, 0],\n",
       "       [0, 0, 0, 0],\n",
       "       [0, 0, 0, 0],\n",
       "       [0, 0, 0, 0],\n",
       "       [0, 0, 0, 0],\n",
       "       [0, 0, 0, 0],\n",
       "       [0, 0, 0, 0],\n",
       "       [1, 0, 1, 1],\n",
       "       [0, 0, 0, 0]], dtype=int32)"
      ]
     },
     "execution_count": 12,
     "metadata": {},
     "output_type": "execute_result"
    }
   ],
   "source": [
    "## Calcula a síndrome para cada umas das palavras recebidas\n",
    "words_syndrome = dot_mod(rx_signal_hard_wordblock, code.H.T)\n",
    "words_syndrome"
   ]
  },
  {
   "cell_type": "code",
   "execution_count": 13,
   "metadata": {},
   "outputs": [],
   "source": [
    "# Cria uma matriz de zeros\n",
    "syndrome_dec = np.zeros((len(words_syndrome),1))"
   ]
  },
  {
   "cell_type": "code",
   "execution_count": 14,
   "metadata": {},
   "outputs": [],
   "source": [
    "# Opera os bits das síndrome multiplicando por 2 e elevando a sua posição \n",
    "for index_words_syndrome, inter_words_syndrome in enumerate(words_syndrome):\n",
    "    syndrome_dec[index_words_syndrome] = sum([bit_words_syndrome*2**index for index, bit_words_syndrome in enumerate(inter_words_syndrome[::-1])])"
   ]
  },
  {
   "cell_type": "code",
   "execution_count": 15,
   "metadata": {},
   "outputs": [],
   "source": [
    "# Substitui os zeros por 1\n",
    "syndrome_dec[syndrome_dec == 0] = 1"
   ]
  },
  {
   "cell_type": "code",
   "execution_count": 16,
   "metadata": {},
   "outputs": [],
   "source": [
    "# Cria uma matriz de zeros\n",
    "bit_corr_idx = np.zeros((len(syndrome_dec),1))"
   ]
  },
  {
   "cell_type": "code",
   "execution_count": 17,
   "metadata": {},
   "outputs": [
    {
     "ename": "NameError",
     "evalue": "name 'bitIdx' is not defined",
     "output_type": "error",
     "traceback": [
      "\u001b[1;31m---------------------------------------------------------------------------\u001b[0m",
      "\u001b[1;31mNameError\u001b[0m                                 Traceback (most recent call last)",
      "\u001b[1;32m<ipython-input-17-90bcb840801a>\u001b[0m in \u001b[0;36m<module>\u001b[1;34m\u001b[0m\n\u001b[0;32m      1\u001b[0m \u001b[1;32mfor\u001b[0m \u001b[0mindex\u001b[0m \u001b[1;32min\u001b[0m \u001b[0mrange\u001b[0m\u001b[1;33m(\u001b[0m\u001b[0mlen\u001b[0m\u001b[1;33m(\u001b[0m\u001b[0msyndrome_dec\u001b[0m\u001b[1;33m)\u001b[0m\u001b[1;33m)\u001b[0m\u001b[1;33m:\u001b[0m\u001b[1;33m\u001b[0m\u001b[1;33m\u001b[0m\u001b[0m\n\u001b[1;32m----> 2\u001b[1;33m     \u001b[0mbit_corr_idx\u001b[0m\u001b[1;33m[\u001b[0m\u001b[0mindex\u001b[0m\u001b[1;33m]\u001b[0m \u001b[1;33m=\u001b[0m \u001b[0mbitIdx\u001b[0m\u001b[1;33m[\u001b[0m\u001b[0mint\u001b[0m\u001b[1;33m(\u001b[0m\u001b[0msyndromeDec\u001b[0m\u001b[1;33m[\u001b[0m\u001b[0mi\u001b[0m\u001b[1;33m]\u001b[0m\u001b[1;33m)\u001b[0m\u001b[1;33m-\u001b[0m\u001b[1;36m1\u001b[0m\u001b[1;33m]\u001b[0m\u001b[1;33m\u001b[0m\u001b[1;33m\u001b[0m\u001b[0m\n\u001b[0m",
      "\u001b[1;31mNameError\u001b[0m: name 'bitIdx' is not defined"
     ]
    }
   ],
   "source": [
    "for index in range(len(syndrome_dec)):\n",
    "    bit_corr_idx[index] = bitIdx[int(syndromeDec[i])-1]"
   ]
  },
  {
   "cell_type": "code",
   "execution_count": null,
   "metadata": {},
   "outputs": [],
   "source": []
  },
  {
   "cell_type": "code",
   "execution_count": null,
   "metadata": {},
   "outputs": [],
   "source": [
    "\n",
    "    bitCorrIdx = np.zeros((len(syndromeDec),1))\n",
    "    for i in range(len(syndromeDec)):\n",
    "        bitCorrIdx[i] = bitIdx[int(syndromeDec[i])-1]\n",
    "    bitCorrIdx = np.reshape(np.arange(N/4)*7,(int(N/4),1)) + bitCorrIdx #finding the index in the array\n",
    "    for i in range(len(bitCorrIdx)):\n",
    "        cipHard[0][int(bitCorrIdx[i])-1] = not(cipHard[0][int(bitCorrIdx[i])-1]) #correcting bits\n",
    "    idx = np.kron(np.ones((1,int(N/4))), np.arange(1,5)) + np.kron(np.arange(N/4)*7,np.ones((1,4))) #index of data bits\n",
    "    ipHat_hard = np.zeros((1,len(idx[0])))\n",
    "    for i in range(len(idx[0])):\n",
    "        ipHat_hard[0][i] = int(cipHard[0][int(idx[0][i])-1]) #selecting data bits"
   ]
  },
  {
   "cell_type": "code",
   "execution_count": null,
   "metadata": {},
   "outputs": [],
   "source": []
  }
 ],
 "metadata": {
  "kernelspec": {
   "display_name": "Python 3",
   "language": "python",
   "name": "python3"
  },
  "language_info": {
   "codemirror_mode": {
    "name": "ipython",
    "version": 3
   },
   "file_extension": ".py",
   "mimetype": "text/x-python",
   "name": "python",
   "nbconvert_exporter": "python",
   "pygments_lexer": "ipython3",
   "version": "3.8.3"
  }
 },
 "nbformat": 4,
 "nbformat_minor": 4
}
