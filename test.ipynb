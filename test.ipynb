{
 "cells": [
  {
   "cell_type": "code",
   "execution_count": 1,
   "metadata": {},
   "outputs": [],
   "source": [
    "from modules.linearcode import * \n",
    "from modules.aux_functions import *\n",
    "import numpy as np\n",
    "\n",
    "G = np.array([[0,1,1,1,1,0,0,0],\n",
    "              [1,1,1,0,0,1,0,0],\n",
    "              [1,1,0,1,0,0,1,0],\n",
    "              [1,0,1,1,0,0,0,1]]) # Matriz geradora\n",
    "\n",
    "code = LinearCode(G)"
   ]
  },
  {
   "cell_type": "markdown",
   "metadata": {},
   "source": [
    "## Passo 1: Gerar uma sequência aleatórias de bits '0' e '1'"
   ]
  },
  {
   "cell_type": "code",
   "execution_count": null,
   "metadata": {},
   "outputs": [],
   "source": [
    "# Gera uma sequência de bits a ser transmitida\n",
    "n_symbols_sequence = 100 # 100 bits serão gerados \n",
    "\n",
    "tx_signal = np.round(np.random.rand(1,n_symbols_sequence))\n",
    "tx_signal"
   ]
  },
  {
   "cell_type": "markdown",
   "metadata": {},
   "source": [
    "## Passo 2: Agrupar os símbolos em blocos   "
   ]
  },
  {
   "cell_type": "code",
   "execution_count": null,
   "metadata": {},
   "outputs": [],
   "source": [
    "## Separa os bits em blocos\n",
    "n_symbols_block = 4\n",
    "\n",
    "tx_signal_block = np.reshape(tx_signal, (int(n_symbols_sequence/n_symbols_block),n_symbols_block))\n",
    "tx_signal_block"
   ]
  },
  {
   "cell_type": "code",
   "execution_count": 4,
   "metadata": {},
   "outputs": [
    {
     "data": {
      "text/plain": [
       "array([[1., 1., 0., 0., 1., 0., 0., 1.],\n",
       "       [1., 1., 1., 0., 0., 1., 0., 0.],\n",
       "       [0., 1., 1., 0., 0., 0., 1., 1.],\n",
       "       [0., 1., 1., 0., 0., 0., 1., 1.],\n",
       "       [0., 1., 0., 1., 0., 1., 0., 1.],\n",
       "       [1., 1., 1., 0., 0., 1., 0., 0.],\n",
       "       [1., 1., 0., 0., 1., 0., 0., 1.],\n",
       "       [0., 1., 1., 0., 0., 0., 1., 1.],\n",
       "       [0., 0., 0., 1., 1., 0., 1., 1.],\n",
       "       [0., 0., 1., 1., 0., 1., 1., 0.],\n",
       "       [1., 1., 0., 0., 1., 0., 0., 1.],\n",
       "       [1., 1., 0., 1., 0., 0., 1., 0.],\n",
       "       [1., 1., 0., 0., 1., 0., 0., 1.],\n",
       "       [0., 0., 0., 1., 1., 0., 1., 1.],\n",
       "       [0., 0., 0., 0., 0., 0., 0., 0.],\n",
       "       [0., 0., 0., 1., 1., 0., 1., 1.],\n",
       "       [1., 1., 0., 0., 1., 0., 0., 1.],\n",
       "       [0., 1., 1., 1., 1., 0., 0., 0.],\n",
       "       [1., 1., 1., 1., 1., 1., 1., 1.],\n",
       "       [1., 0., 1., 1., 0., 0., 0., 1.],\n",
       "       [1., 1., 1., 0., 0., 1., 0., 0.],\n",
       "       [0., 0., 1., 0., 1., 1., 0., 1.],\n",
       "       [1., 0., 0., 0., 0., 1., 1., 1.],\n",
       "       [1., 0., 1., 0., 1., 0., 1., 0.],\n",
       "       [0., 0., 1., 1., 0., 1., 1., 0.]])"
      ]
     },
     "execution_count": 4,
     "metadata": {},
     "output_type": "execute_result"
    }
   ],
   "source": [
    "## Aplica os bits de paridade a cada bloco de acordo com a matriz G\n",
    "tx_signal_wordblock = dot_mod(tx_signal_block, code.G)\n",
    "tx_signal_wordblock"
   ]
  },
  {
   "cell_type": "code",
   "execution_count": 5,
   "metadata": {},
   "outputs": [
    {
     "data": {
      "text/plain": [
       "array([1., 1., 0., 0., 1., 0., 0., 1., 1., 1., 1., 0., 0., 1., 0., 0., 0.,\n",
       "       1., 1., 0., 0., 0., 1., 1., 0., 1., 1., 0., 0., 0., 1., 1., 0., 1.,\n",
       "       0., 1., 0., 1., 0., 1., 1., 1., 1., 0., 0., 1., 0., 0., 1., 1., 0.,\n",
       "       0., 1., 0., 0., 1., 0., 1., 1., 0., 0., 0., 1., 1., 0., 0., 0., 1.,\n",
       "       1., 0., 1., 1., 0., 0., 1., 1., 0., 1., 1., 0., 1., 1., 0., 0., 1.,\n",
       "       0., 0., 1., 1., 1., 0., 1., 0., 0., 1., 0., 1., 1., 0., 0., 1., 0.,\n",
       "       0., 1., 0., 0., 0., 1., 1., 0., 1., 1., 0., 0., 0., 0., 0., 0., 0.,\n",
       "       0., 0., 0., 0., 1., 1., 0., 1., 1., 1., 1., 0., 0., 1., 0., 0., 1.,\n",
       "       0., 1., 1., 1., 1., 0., 0., 0., 1., 1., 1., 1., 1., 1., 1., 1., 1.,\n",
       "       0., 1., 1., 0., 0., 0., 1., 1., 1., 1., 0., 0., 1., 0., 0., 0., 0.,\n",
       "       1., 0., 1., 1., 0., 1., 1., 0., 0., 0., 0., 1., 1., 1., 1., 0., 1.,\n",
       "       0., 1., 0., 1., 0., 0., 0., 1., 1., 0., 1., 1., 0.])"
      ]
     },
     "execution_count": 5,
     "metadata": {},
     "output_type": "execute_result"
    }
   ],
   "source": [
    "## Coloca os símbolos que serão enviados lado a lado em um lista\n",
    "tx_signal_with_paritybits = np.reshape(tx_signal_wordblock,(1,int((n_symbols_sequence/n_symbols_block) * code.G.shape[1])))[0]\n",
    "tx_signal_with_paritybits"
   ]
  },
  {
   "cell_type": "markdown",
   "metadata": {},
   "source": [
    "## Passo 3: Aplica a modulação que será usada no canal"
   ]
  },
  {
   "cell_type": "code",
   "execution_count": 6,
   "metadata": {},
   "outputs": [
    {
     "data": {
      "text/plain": [
       "array([ 1.,  1., -1., -1.,  1., -1., -1.,  1.,  1.,  1.,  1., -1., -1.,\n",
       "        1., -1., -1., -1.,  1.,  1., -1., -1., -1.,  1.,  1., -1.,  1.,\n",
       "        1., -1., -1., -1.,  1.,  1., -1.,  1., -1.,  1., -1.,  1., -1.,\n",
       "        1.,  1.,  1.,  1., -1., -1.,  1., -1., -1.,  1.,  1., -1., -1.,\n",
       "        1., -1., -1.,  1., -1.,  1.,  1., -1., -1., -1.,  1.,  1., -1.,\n",
       "       -1., -1.,  1.,  1., -1.,  1.,  1., -1., -1.,  1.,  1., -1.,  1.,\n",
       "        1., -1.,  1.,  1., -1., -1.,  1., -1., -1.,  1.,  1.,  1., -1.,\n",
       "        1., -1., -1.,  1., -1.,  1.,  1., -1., -1.,  1., -1., -1.,  1.,\n",
       "       -1., -1., -1.,  1.,  1., -1.,  1.,  1., -1., -1., -1., -1., -1.,\n",
       "       -1., -1., -1., -1., -1., -1.,  1.,  1., -1.,  1.,  1.,  1.,  1.,\n",
       "       -1., -1.,  1., -1., -1.,  1., -1.,  1.,  1.,  1.,  1., -1., -1.,\n",
       "       -1.,  1.,  1.,  1.,  1.,  1.,  1.,  1.,  1.,  1., -1.,  1.,  1.,\n",
       "       -1., -1., -1.,  1.,  1.,  1.,  1., -1., -1.,  1., -1., -1., -1.,\n",
       "       -1.,  1., -1.,  1.,  1., -1.,  1.,  1., -1., -1., -1., -1.,  1.,\n",
       "        1.,  1.,  1., -1.,  1., -1.,  1., -1.,  1., -1., -1., -1.,  1.,\n",
       "        1., -1.,  1.,  1., -1.])"
      ]
     },
     "execution_count": 6,
     "metadata": {},
     "output_type": "execute_result"
    }
   ],
   "source": [
    "## Aplica a modulação BPSK. Transformando os bits 0 em -1 e 1 em 1\n",
    "tx_signal_with_paritybits_BPSK = (2*tx_signal_with_paritybits - 1)\n",
    "tx_signal_with_paritybits_BPSK"
   ]
  },
  {
   "cell_type": "markdown",
   "metadata": {},
   "source": [
    "## Passo 4: Cria o canal AWGN"
   ]
  },
  {
   "cell_type": "code",
   "execution_count": 7,
   "metadata": {},
   "outputs": [],
   "source": [
    "## Cria o canal ruidoso  \n",
    "mu = 0 # Média 0\n",
    "sigma = 1 # Variância 1\n",
    "\n",
    "# Número aleátorio baseado em uma distribuição gaussiana\n",
    "real_part_random = np.random.normal(mu, sigma, (1,len(tx_signal_with_paritybits)))\n",
    "\n",
    "# Número aleátorio baseado em uma distribuição gaussiana multiplicado por j para criar um número imaginário\n",
    "imaginary_part_random = 1j*np.random.normal(mu, sigma, (1,len(tx_signal_with_paritybits)))\n",
    "\n",
    "# Canal com componente real e imaginária\n",
    "channel = (1/np.sqrt(2))*(real_part_random + imaginary_part_random)"
   ]
  },
  {
   "cell_type": "markdown",
   "metadata": {},
   "source": [
    "## Passo 5: Adicionar o ruído aos bits transmitidos "
   ]
  },
  {
   "cell_type": "code",
   "execution_count": 8,
   "metadata": {},
   "outputs": [
    {
     "data": {
      "text/plain": [
       "array([ 0,  1,  2,  3,  4,  5,  6,  7,  8,  9, 10])"
      ]
     },
     "execution_count": 8,
     "metadata": {},
     "output_type": "execute_result"
    }
   ],
   "source": [
    "EcN0dBs = np.arange(11) \n",
    "EcN0dBs"
   ]
  },
  {
   "cell_type": "code",
   "execution_count": 9,
   "metadata": {},
   "outputs": [],
   "source": [
    "## Adição de ruído\n",
    "\n",
    "inter_EcN0dBs = 0 \n",
    "\n",
    "# Símbolos recebidos\n",
    "rx_signal = tx_signal_with_paritybits_BPSK + (10**(-EcN0dBs[inter_EcN0dBs]/20)) * channel"
   ]
  },
  {
   "cell_type": "markdown",
   "metadata": {},
   "source": [
    "## Passo 6: Decodificação por softdecision"
   ]
  },
  {
   "cell_type": "code",
   "execution_count": 10,
   "metadata": {},
   "outputs": [],
   "source": [
    "### Separar em blocos com o comprimento da palavra-código\n",
    "\n",
    "rx_signal_wordblock = np.reshape(np.real(rx_signal),(int(n_symbols_sequence/n_symbols_block),code.G.shape[1]))"
   ]
  },
  {
   "cell_type": "code",
   "execution_count": 11,
   "metadata": {},
   "outputs": [],
   "source": [
    "### Gera todas as palavras código para a matriz G\n",
    "codewords_vector = np.array(code.codewords)"
   ]
  },
  {
   "cell_type": "code",
   "execution_count": 12,
   "metadata": {},
   "outputs": [],
   "source": [
    "### Cria a matriz A a partir das palavras código\n",
    "A = 2 * codewords_vector.T - 1"
   ]
  },
  {
   "cell_type": "code",
   "execution_count": 13,
   "metadata": {},
   "outputs": [],
   "source": [
    "## Cria a matriz B a multiplicando o sinal recebido pela matriz B (A multiplicação é no campo dos reais)\n",
    "B = rx_signal_wordblock @ A"
   ]
  },
  {
   "cell_type": "code",
   "execution_count": 14,
   "metadata": {},
   "outputs": [],
   "source": [
    "### Cria uma lista para armazenar os valores da coluna em cada que linha que apresenta o maior valor e também o seu valor\n",
    "max_col_index_and_value = list()\n",
    "\n",
    "# Percorre as linhas e seleciona o valor mais alto e sua posição na linha\n",
    "for B_row in B:\n",
    "    max_col_index_and_value.append(max(enumerate(B_row), key=lambda index: index[1]))"
   ]
  },
  {
   "cell_type": "code",
   "execution_count": 15,
   "metadata": {},
   "outputs": [
    {
     "data": {
      "text/plain": [
       "array([1, 0, 0, 1, 0, 1, 0, 0, 0, 0, 1, 1, 0, 0, 1, 1, 0, 1, 0, 1, 0, 1,\n",
       "       0, 0, 1, 0, 0, 1, 0, 0, 1, 1, 1, 0, 1, 1, 0, 1, 1, 0, 1, 0, 0, 1,\n",
       "       0, 0, 1, 0, 1, 0, 0, 1, 1, 0, 1, 1, 0, 0, 0, 0, 1, 0, 1, 1, 1, 0,\n",
       "       0, 1, 1, 0, 0, 0, 1, 1, 1, 1, 0, 0, 0, 1, 0, 1, 0, 0, 1, 1, 0, 1,\n",
       "       0, 1, 1, 1, 1, 0, 1, 0, 0, 1, 1, 0])"
      ]
     },
     "execution_count": 15,
     "metadata": {},
     "output_type": "execute_result"
    }
   ],
   "source": [
    "## Decodificando as informações\n",
    "\n",
    "# Isola as iformações referente ao índices da tupla 'max_col_index_and_value'\n",
    "col_index = np.array(max_col_index_and_value, dtype=int).T[0]\n",
    "\n",
    "# Função para converter um número decimal em binário. Obs: O valor do binário está espalhado para seguir a forma que o código foi criado anteriormente\n",
    "dec2bit = lambda dec: [int(bit) for bit in '{:0{}b}'.format(dec, code.G.shape[0])][::-1]\n",
    "\n",
    "# Concatena os bits para gerar o sinal de saída\n",
    "rx_signal_softdecode = np.concatenate(([dec2bit(index) for index in col_index]))\n",
    "rx_signal_softdecode"
   ]
  },
  {
   "cell_type": "code",
   "execution_count": 16,
   "metadata": {},
   "outputs": [
    {
     "data": {
      "text/plain": [
       "array([[1, 0, 0, 1, 0, 1, 0, 0, 0, 0, 1, 1, 0, 0, 1, 1, 0, 1, 0, 1, 0, 1,\n",
       "        0, 0, 1, 0, 0, 1, 0, 0, 1, 1, 1, 0, 1, 1, 0, 1, 1, 0, 1, 0, 0, 1,\n",
       "        0, 0, 1, 0, 1, 0, 0, 1, 1, 0, 1, 1, 0, 0, 0, 0, 1, 0, 1, 1, 1, 0,\n",
       "        0, 1, 1, 0, 0, 0, 1, 1, 1, 1, 0, 0, 0, 1, 0, 1, 0, 0, 1, 1, 0, 1,\n",
       "        0, 1, 1, 1, 1, 0, 1, 0, 0, 1, 1, 0]])"
      ]
     },
     "execution_count": 16,
     "metadata": {},
     "output_type": "execute_result"
    }
   ],
   "source": [
    "# Sinal transmitido original\n",
    "np.array(tx_signal, dtype=int)"
   ]
  },
  {
   "cell_type": "code",
   "execution_count": 17,
   "metadata": {},
   "outputs": [
    {
     "data": {
      "text/plain": [
       "0"
      ]
     },
     "execution_count": 17,
     "metadata": {},
     "output_type": "execute_result"
    }
   ],
   "source": [
    "## Verifica a ocorrencia de erro no sinal\n",
    "num_error = sum(((tx_signal - rx_signal_softdecode) != 0)[0])\n",
    "num_error"
   ]
  },
  {
   "cell_type": "code",
   "execution_count": 18,
   "metadata": {},
   "outputs": [
    {
     "data": {
      "text/plain": [
       "0.0"
      ]
     },
     "execution_count": 18,
     "metadata": {},
     "output_type": "execute_result"
    }
   ],
   "source": [
    "## Taxa de erro da decodificação por soft é \n",
    "rate_soft_error = num_error / n_symbols_sequence\n",
    "rate_soft_error"
   ]
  },
  {
   "cell_type": "markdown",
   "metadata": {},
   "source": [
    "# HARD"
   ]
  },
  {
   "cell_type": "code",
   "execution_count": 19,
   "metadata": {},
   "outputs": [
    {
     "data": {
      "text/plain": [
       "array([[1, 1, 1, 0, 1, 0, 0, 1, 1, 0, 1, 0, 0, 1, 0, 0, 0, 1, 1, 0, 0, 0,\n",
       "        0, 1, 1, 1, 0, 0, 0, 0, 1, 1, 0, 1, 0, 1, 0, 0, 1, 0, 1, 1, 1, 0,\n",
       "        0, 1, 0, 0, 1, 1, 0, 0, 0, 0, 0, 0, 0, 0, 1, 0, 0, 0, 1, 1, 0, 0,\n",
       "        0, 1, 1, 0, 1, 1, 0, 0, 1, 1, 0, 1, 1, 0, 1, 1, 0, 0, 1, 0, 0, 1,\n",
       "        1, 0, 0, 1, 0, 0, 1, 0, 1, 1, 0, 0, 1, 0, 0, 1, 0, 0, 0, 1, 1, 0,\n",
       "        1, 1, 0, 0, 1, 0, 0, 0, 0, 0, 0, 0, 0, 1, 0, 0, 1, 1, 1, 1, 0, 0,\n",
       "        1, 0, 0, 1, 1, 1, 1, 1, 1, 0, 0, 0, 1, 1, 1, 1, 1, 1, 1, 1, 1, 0,\n",
       "        1, 1, 0, 0, 0, 1, 1, 1, 1, 0, 0, 1, 0, 0, 0, 0, 1, 0, 1, 1, 0, 1,\n",
       "        1, 0, 0, 0, 0, 1, 1, 1, 1, 0, 1, 0, 1, 0, 1, 0, 0, 0, 1, 1, 0, 1,\n",
       "        1, 0]])"
      ]
     },
     "execution_count": 19,
     "metadata": {},
     "output_type": "execute_result"
    }
   ],
   "source": [
    "## Normaliza os valores acima de 0 para ser igual a 1\n",
    "rx_signal_hardconversion = np.real(rx_signal) > 0\n",
    "rx_signal_hardconversion = rx_signal_hardconversion.astype(int)\n",
    "rx_signal_hardconversion"
   ]
  },
  {
   "cell_type": "markdown",
   "metadata": {},
   "source": [
    "## Passo 6: Decodificação por hard decision"
   ]
  },
  {
   "cell_type": "code",
   "execution_count": 20,
   "metadata": {},
   "outputs": [
    {
     "data": {
      "text/plain": [
       "array([[1, 1, 1, 0, 1, 0, 0, 1],\n",
       "       [1, 0, 1, 0, 0, 1, 0, 0],\n",
       "       [0, 1, 1, 0, 0, 0, 0, 1],\n",
       "       [1, 1, 0, 0, 0, 0, 1, 1],\n",
       "       [0, 1, 0, 1, 0, 0, 1, 0],\n",
       "       [1, 1, 1, 0, 0, 1, 0, 0],\n",
       "       [1, 1, 0, 0, 0, 0, 0, 0],\n",
       "       [0, 0, 1, 0, 0, 0, 1, 1],\n",
       "       [0, 0, 0, 1, 1, 0, 1, 1],\n",
       "       [0, 0, 1, 1, 0, 1, 1, 0],\n",
       "       [1, 1, 0, 0, 1, 0, 0, 1],\n",
       "       [1, 0, 0, 1, 0, 0, 1, 0],\n",
       "       [1, 1, 0, 0, 1, 0, 0, 1],\n",
       "       [0, 0, 0, 1, 1, 0, 1, 1],\n",
       "       [0, 0, 1, 0, 0, 0, 0, 0],\n",
       "       [0, 0, 0, 1, 0, 0, 1, 1],\n",
       "       [1, 1, 0, 0, 1, 0, 0, 1],\n",
       "       [1, 1, 1, 1, 1, 0, 0, 0],\n",
       "       [1, 1, 1, 1, 1, 1, 1, 1],\n",
       "       [1, 0, 1, 1, 0, 0, 0, 1],\n",
       "       [1, 1, 1, 0, 0, 1, 0, 0],\n",
       "       [0, 0, 1, 0, 1, 1, 0, 1],\n",
       "       [1, 0, 0, 0, 0, 1, 1, 1],\n",
       "       [1, 0, 1, 0, 1, 0, 1, 0],\n",
       "       [0, 0, 1, 1, 0, 1, 1, 0]])"
      ]
     },
     "execution_count": 20,
     "metadata": {},
     "output_type": "execute_result"
    }
   ],
   "source": [
    "## Separa os bits recebidos em blocos de comprimento com o mesmo tamanho da palavra transmitida no canal\n",
    "rx_signal_hard_wordblock = np.reshape(rx_signal_hardconversion, (int(n_symbols_sequence/n_symbols_block),G.shape[1]))\n",
    "rx_signal_hard_wordblock"
   ]
  },
  {
   "cell_type": "code",
   "execution_count": 21,
   "metadata": {},
   "outputs": [
    {
     "data": {
      "text/plain": [
       "array([[0, 0, 1, 0],\n",
       "       [0, 1, 0, 0],\n",
       "       [1, 1, 0, 1],\n",
       "       [1, 0, 1, 0],\n",
       "       [1, 0, 0, 0],\n",
       "       [0, 0, 0, 0],\n",
       "       [1, 1, 0, 0],\n",
       "       [0, 1, 0, 0],\n",
       "       [0, 0, 0, 0],\n",
       "       [0, 0, 0, 0],\n",
       "       [0, 0, 0, 0],\n",
       "       [0, 1, 0, 0],\n",
       "       [0, 0, 0, 0],\n",
       "       [0, 0, 0, 0],\n",
       "       [0, 0, 1, 0],\n",
       "       [0, 1, 1, 1],\n",
       "       [0, 0, 0, 0],\n",
       "       [1, 0, 0, 0],\n",
       "       [0, 0, 0, 0],\n",
       "       [0, 0, 0, 0],\n",
       "       [0, 0, 0, 0],\n",
       "       [0, 0, 0, 0],\n",
       "       [0, 0, 0, 0],\n",
       "       [0, 0, 0, 0],\n",
       "       [0, 0, 0, 0]], dtype=int32)"
      ]
     },
     "execution_count": 21,
     "metadata": {},
     "output_type": "execute_result"
    }
   ],
   "source": [
    "## Calcula a síndrome para cada umas das palavras recebidas\n",
    "words_syndrome = dot_mod(rx_signal_hard_wordblock, code.H.T)\n",
    "words_syndrome"
   ]
  },
  {
   "cell_type": "code",
   "execution_count": 31,
   "metadata": {},
   "outputs": [],
   "source": [
    "vector_error_pattern = np.array([code.get_liders_syndromes()[bit2str(syndrome)] for syndrome in words_syndrome])"
   ]
  },
  {
   "cell_type": "code",
   "execution_count": 32,
   "metadata": {},
   "outputs": [
    {
     "data": {
      "text/plain": [
       "array([[0, 0, 1, 0, 0, 0, 0, 0],\n",
       "       [0, 1, 0, 0, 0, 0, 0, 0],\n",
       "       [0, 0, 0, 0, 0, 0, 1, 0],\n",
       "       [1, 0, 1, 0, 0, 0, 0, 0],\n",
       "       [1, 0, 0, 0, 0, 0, 0, 0],\n",
       "       [0, 0, 0, 0, 0, 0, 0, 0],\n",
       "       [1, 1, 0, 0, 0, 0, 0, 0],\n",
       "       [0, 1, 0, 0, 0, 0, 0, 0],\n",
       "       [0, 0, 0, 0, 0, 0, 0, 0],\n",
       "       [0, 0, 0, 0, 0, 0, 0, 0],\n",
       "       [0, 0, 0, 0, 0, 0, 0, 0],\n",
       "       [0, 1, 0, 0, 0, 0, 0, 0],\n",
       "       [0, 0, 0, 0, 0, 0, 0, 0],\n",
       "       [0, 0, 0, 0, 0, 0, 0, 0],\n",
       "       [0, 0, 1, 0, 0, 0, 0, 0],\n",
       "       [0, 0, 0, 0, 1, 0, 0, 0],\n",
       "       [0, 0, 0, 0, 0, 0, 0, 0],\n",
       "       [1, 0, 0, 0, 0, 0, 0, 0],\n",
       "       [0, 0, 0, 0, 0, 0, 0, 0],\n",
       "       [0, 0, 0, 0, 0, 0, 0, 0],\n",
       "       [0, 0, 0, 0, 0, 0, 0, 0],\n",
       "       [0, 0, 0, 0, 0, 0, 0, 0],\n",
       "       [0, 0, 0, 0, 0, 0, 0, 0],\n",
       "       [0, 0, 0, 0, 0, 0, 0, 0],\n",
       "       [0, 0, 0, 0, 0, 0, 0, 0]])"
      ]
     },
     "execution_count": 32,
     "metadata": {},
     "output_type": "execute_result"
    }
   ],
   "source": [
    "vector_error_pattern"
   ]
  },
  {
   "cell_type": "code",
   "execution_count": 35,
   "metadata": {},
   "outputs": [
    {
     "data": {
      "text/plain": [
       "array([1, 1, 0, 0, 1, 0, 0, 1, 1, 1, 1, 0, 0, 1, 0, 0, 0, 1, 1, 0, 0, 0,\n",
       "       1, 1, 0, 1, 1, 0, 0, 0, 1, 1, 1, 1, 0, 1, 0, 0, 1, 0, 1, 1, 1, 0,\n",
       "       0, 1, 0, 0, 0, 0, 0, 0, 0, 0, 0, 0, 0, 1, 1, 0, 0, 0, 1, 1, 0, 0,\n",
       "       0, 1, 1, 0, 1, 1, 0, 0, 1, 1, 0, 1, 1, 0, 1, 1, 0, 0, 1, 0, 0, 1,\n",
       "       1, 1, 0, 1, 0, 0, 1, 0, 1, 1, 0, 0, 1, 0, 0, 1, 0, 0, 0, 1, 1, 0,\n",
       "       1, 1, 0, 0, 0, 0, 0, 0, 0, 0, 0, 0, 0, 1, 1, 0, 1, 1, 1, 1, 0, 0,\n",
       "       1, 0, 0, 1, 0, 1, 1, 1, 1, 0, 0, 0, 1, 1, 1, 1, 1, 1, 1, 1, 1, 0,\n",
       "       1, 1, 0, 0, 0, 1, 1, 1, 1, 0, 0, 1, 0, 0, 0, 0, 1, 0, 1, 1, 0, 1,\n",
       "       1, 0, 0, 0, 0, 1, 1, 1, 1, 0, 1, 0, 1, 0, 1, 0, 0, 0, 1, 1, 0, 1,\n",
       "       1, 0])"
      ]
     },
     "execution_count": 35,
     "metadata": {},
     "output_type": "execute_result"
    }
   ],
   "source": [
    "np.array(sum_mod(rx_signal_hard_wordblock.reshape(-1), vector_error_pattern.reshape(-1)))"
   ]
  },
  {
   "cell_type": "code",
   "execution_count": 33,
   "metadata": {},
   "outputs": [
    {
     "data": {
      "text/plain": [
       "array([0, 0, 1, 0, 0, 0, 0, 0, 0, 1, 0, 0, 0, 0, 0, 0, 0, 0, 0, 0, 0, 0,\n",
       "       1, 0, 1, 0, 1, 0, 0, 0, 0, 0, 1, 0, 0, 0, 0, 0, 0, 0, 0, 0, 0, 0,\n",
       "       0, 0, 0, 0, 1, 1, 0, 0, 0, 0, 0, 0, 0, 1, 0, 0, 0, 0, 0, 0, 0, 0,\n",
       "       0, 0, 0, 0, 0, 0, 0, 0, 0, 0, 0, 0, 0, 0, 0, 0, 0, 0, 0, 0, 0, 0,\n",
       "       0, 1, 0, 0, 0, 0, 0, 0, 0, 0, 0, 0, 0, 0, 0, 0, 0, 0, 0, 0, 0, 0,\n",
       "       0, 0, 0, 0, 1, 0, 0, 0, 0, 0, 0, 0, 0, 0, 1, 0, 0, 0, 0, 0, 0, 0,\n",
       "       0, 0, 0, 0, 1, 0, 0, 0, 0, 0, 0, 0, 0, 0, 0, 0, 0, 0, 0, 0, 0, 0,\n",
       "       0, 0, 0, 0, 0, 0, 0, 0, 0, 0, 0, 0, 0, 0, 0, 0, 0, 0, 0, 0, 0, 0,\n",
       "       0, 0, 0, 0, 0, 0, 0, 0, 0, 0, 0, 0, 0, 0, 0, 0, 0, 0, 0, 0, 0, 0,\n",
       "       0, 0])"
      ]
     },
     "execution_count": 33,
     "metadata": {},
     "output_type": "execute_result"
    }
   ],
   "source": [
    "vector_error_pattern.reshape(-1)"
   ]
  },
  {
   "cell_type": "code",
   "execution_count": 37,
   "metadata": {},
   "outputs": [
    {
     "data": {
      "text/plain": [
       "array([[1, 0, 0, 0],\n",
       "       [0, 1, 0, 0],\n",
       "       [0, 0, 1, 0],\n",
       "       [0, 0, 0, 1],\n",
       "       [0, 1, 1, 1],\n",
       "       [1, 1, 1, 0],\n",
       "       [1, 1, 0, 1],\n",
       "       [1, 0, 1, 1]])"
      ]
     },
     "execution_count": 37,
     "metadata": {},
     "output_type": "execute_result"
    }
   ],
   "source": [
    "code.H.T"
   ]
  },
  {
   "cell_type": "code",
   "execution_count": 50,
   "metadata": {},
   "outputs": [
    {
     "data": {
      "text/plain": [
       "array([[0, 0, 1, 0],\n",
       "       [0, 1, 0, 0],\n",
       "       [1, 1, 0, 1],\n",
       "       [1, 0, 1, 0],\n",
       "       [1, 0, 0, 0],\n",
       "       [0, 0, 0, 0],\n",
       "       [1, 1, 0, 0],\n",
       "       [0, 1, 0, 0],\n",
       "       [0, 0, 0, 0],\n",
       "       [0, 0, 0, 0],\n",
       "       [0, 0, 0, 0],\n",
       "       [0, 1, 0, 0],\n",
       "       [0, 0, 0, 0],\n",
       "       [0, 0, 0, 0],\n",
       "       [0, 0, 1, 0],\n",
       "       [0, 1, 1, 1],\n",
       "       [0, 0, 0, 0],\n",
       "       [1, 0, 0, 0],\n",
       "       [0, 0, 0, 0],\n",
       "       [0, 0, 0, 0],\n",
       "       [0, 0, 0, 0],\n",
       "       [0, 0, 0, 0],\n",
       "       [0, 0, 0, 0],\n",
       "       [0, 0, 0, 0],\n",
       "       [0, 0, 0, 0]], dtype=int32)"
      ]
     },
     "execution_count": 50,
     "metadata": {},
     "output_type": "execute_result"
    }
   ],
   "source": [
    "words_syndrome"
   ]
  }
 ],
 "metadata": {
  "kernelspec": {
   "display_name": "Python 3",
   "language": "python",
   "name": "python3"
  },
  "language_info": {
   "codemirror_mode": {
    "name": "ipython",
    "version": 3
   },
   "file_extension": ".py",
   "mimetype": "text/x-python",
   "name": "python",
   "nbconvert_exporter": "python",
   "pygments_lexer": "ipython3",
   "version": "3.8.3"
  }
 },
 "nbformat": 4,
 "nbformat_minor": 4
}
