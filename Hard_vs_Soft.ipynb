{
 "cells": [
  {
   "cell_type": "markdown",
   "metadata": {},
   "source": [
    "## Hard vs Soft "
   ]
  },
  {
   "cell_type": "code",
   "execution_count": 57,
   "metadata": {},
   "outputs": [],
   "source": [
    "from modules.linearcode import * \n",
    "from modules.aux_functions import * \n",
    "from scipy import special\n",
    "import numpy as np\n",
    "import math\n",
    "\n",
    "import matplotlib.patches as mpatches\n",
    "import matplotlib.pyplot as plt\n",
    "\n",
    "# Define a matriz geradora que será usada para codificar a informação (8,4)\n",
    "G_8_4 = np.array([[0,1,1,1,1,0,0,0],\n",
    "                  [1,1,1,0,0,1,0,0],\n",
    "                  [1,1,0,1,0,0,1,0],\n",
    "                  [1,0,1,1,0,0,0,1]]) # Matriz geradora\n",
    "\n",
    "# Define a matriz geradora que será usada para codificar a informação (6,3)\n",
    "G_6_3 = np.array([[0,1,1,1,0,0],\n",
    "                  [1,0,1,0,1,0],\n",
    "                  [1,1,0,1,0,1]]) # Matriz geradora\n",
    "\n",
    "# Define a matriz geradora que será usada para codificar a informação (7,4)\n",
    "G_7_4 = np.array([[1,0,1,1,0,0,0],\n",
    "                  [1,1,1,0,1,0,0],\n",
    "                  [1,1,0,0,0,1,0],\n",
    "                  [0,1,1,0,0,0,1]]) # Matriz geradora\n",
    "\n",
    "# Cria o objeto com a matriz de decodificação\n",
    "code = LinearCode(G_7_4)"
   ]
  },
  {
   "cell_type": "code",
   "execution_count": 58,
   "metadata": {},
   "outputs": [],
   "source": [
    "# Número de bits a ser transmitida\n",
    "n_symbols_sequence = 10**5 #símbols\n",
    "\n",
    "# Potências que serão usadas para aplicar os erros no canal\n",
    "Eb_N0_dB = np.linspace(0, 11, 20) #multiple Eb/N0 values\n",
    "\n",
    "Ec_N0_dB = Eb_N0_dB - 10 * math.log(code.G.shape[1] / code.G.shape[0], 10)\n",
    "\n",
    "#Armazena os valores dos erros para cada umas das potências\n",
    "num_error_soft_decision = []\n",
    "num_error_hard_decision = []"
   ]
  },
  {
   "cell_type": "code",
   "execution_count": 59,
   "metadata": {},
   "outputs": [
    {
     "data": {
      "image/png": "[encoded data removed]",
      "text/plain": [
       "<Figure size 432x288 with 1 Axes>"
      ]
     },
     "metadata": {
      "needs_background": "light"
     },
     "output_type": "display_data"
    }
   ],
   "source": [
    "for Ec_N0_dB_value in Ec_N0_dB:\n",
    "    # Sinal transmitido\n",
    "    tx_signal = np.round(np.random.rand(1,n_symbols_sequence))[0]\n",
    "\n",
    "    # Aplica os bits de paridade nos bits de informação\n",
    "    tx_signal_enconded = code.enconder(tx_signal)\n",
    "\n",
    "    # Aplica a modulação BPSK\n",
    "    tx_signal_enconded_BPSK = code.modulation_BPSK(tx_signal_enconded)\n",
    "\n",
    "    # Adiciona rúido gaussiano branco ao canal\n",
    "    rx_signal = code.add_RAGB(tx_signal_enconded_BPSK, mu_AWGN=0, sigma_AWGN=1, EcN0dBs=Ec_N0_dB_value)\n",
    "\n",
    "    ## Decoficação por Soft Decision\n",
    "    rx_signal_softdecoder = code.decoderAWGN(rx_signal)\n",
    "\n",
    "    ## Decoficação por Hard Decision\n",
    "    #TODO:\n",
    "\n",
    "    ## Verifica a ocorrencia de erro no sinal\n",
    "    # Erro soft decision\n",
    "    num_error_soft_decision.append(sum(((tx_signal - rx_signal_softdecoder) != 0)))\n",
    "\n",
    "theoryBer = 0.5 * special.erfc(np.sqrt(10**(Eb_N0_dB/10)))\n",
    "\n",
    "simBer_soft = np.array(num_error_soft_decision)/n_symbols_sequence\n",
    "\n",
    "plt.semilogy(Eb_N0_dB, theoryBer,'bo',Eb_N0_dB, theoryBer,'b')\n",
    "plt.semilogy(Eb_N0_dB, theoryBer,'bo',label='theory - uncoded')\n",
    "#plt.semilogy(Eb_N0_dB, simBer_hard, 'mo',Eb_N0_dB, simBer_hard, 'm')\n",
    "#plt.semilogy(Eb_N0_dB, simBer_hard, 'mo',label=\"simulation - Hamming 7,4 (hard)\")\n",
    "plt.semilogy(Eb_N0_dB, simBer_soft,'ro',Eb_N0_dB, simBer_soft, 'r')\n",
    "plt.semilogy(Eb_N0_dB, simBer_soft,'ro',label='simulation - Hamming 7,4 (soft)')\n",
    "plt.xlabel(\"Eb/No, dB\")\n",
    "plt.ylabel(\"Bit Error Rate\")\n",
    "\n",
    "#plt.legend(borderaxespad=0)\n",
    "plt.legend()\n",
    "\n",
    "plt.show()"
   ]
  },
  {
   "cell_type": "code",
   "execution_count": null,
   "metadata": {},
   "outputs": [],
   "source": []
  }
 ],
 "metadata": {
  "kernelspec": {
   "display_name": "Python 3",
   "language": "python",
   "name": "python3"
  },
  "language_info": {
   "codemirror_mode": {
    "name": "ipython",
    "version": 3
   },
   "file_extension": ".py",
   "mimetype": "text/x-python",
   "name": "python",
   "nbconvert_exporter": "python",
   "pygments_lexer": "ipython3",
   "version": "3.8.3"
  }
 },
 "nbformat": 4,
 "nbformat_minor": 4
}
